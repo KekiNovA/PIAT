{
 "cells": [
  {
   "cell_type": "markdown",
   "id": "981918d3",
   "metadata": {},
   "source": [
    "# Face Detection"
   ]
  },
  {
   "cell_type": "code",
   "execution_count": 8,
   "id": "96e27598",
   "metadata": {},
   "outputs": [],
   "source": [
    "import cv2\n",
    "from mtcnn.mtcnn import MTCNN\n",
    "detector = MTCNN()\n",
    "\n",
    "video = cv2.VideoCapture('../video_1.mp4')\n",
    "\n",
    "if (video.isOpened() == False):\n",
    "    print(\"Web Camera not detected\")\n",
    "while (True):\n",
    "    ret, frame = video.read()\n",
    "    if ret == True:\n",
    "        location = detector.detect_faces(frame)\n",
    "        if len(location) > 0:\n",
    "            for face in location:\n",
    "                x, y, width, height = face['box']\n",
    "                x2, y2 = x + width, y + height\n",
    "                cv2.rectangle(frame, (x, y), (x2, y2), (0, 0, 255), 4)\n",
    "        cv2.imshow(\"Output\",frame)\n",
    "        if cv2.waitKey(1) & 0xFF == ord('q'):\n",
    "            break\n",
    "    else:\n",
    "        break\n",
    "\n",
    "video.release()\n",
    "cv2.destroyAllWindows()\n"
   ]
  },
  {
   "cell_type": "code",
   "execution_count": 10,
   "id": "62fc5cdf",
   "metadata": {},
   "outputs": [
    {
     "name": "stdout",
     "output_type": "stream",
     "text": [
      "^C\n",
      "Note: you may need to restart the kernel to use updated packages.\n"
     ]
    }
   ],
   "source": [
    "pip install facenet-pytorch"
   ]
  },
  {
   "cell_type": "markdown",
   "id": "driving-hawaiian",
   "metadata": {},
   "source": [
    "# Using Fast MTCNN\n"
   ]
  },
  {
   "cell_type": "code",
   "execution_count": 1,
   "id": "rural-standard",
   "metadata": {},
   "outputs": [],
   "source": [
    "from facenet_pytorch import MTCNN\n",
    "from PIL import Image\n",
    "import torch\n",
    "from imutils.video import FileVideoStream\n",
    "import cv2\n",
    "import time\n",
    "\n",
    "device = 'cuda' if torch.cuda.is_available() else 'cpu'\n",
    "\n",
    "filename = '../video_1.mp4'"
   ]
  },
  {
   "cell_type": "code",
   "execution_count": 2,
   "id": "earned-cache",
   "metadata": {},
   "outputs": [],
   "source": [
    "class FastMTCNN(object):\n",
    "    \"\"\"Fast MTCNN implementation.\"\"\"\n",
    "    \n",
    "    def __init__(self, stride, resize=1, *args, **kwargs):\n",
    "        \"\"\"Constructor for FastMTCNN class.\n",
    "        \n",
    "        Arguments:\n",
    "            stride (int): The detection stride. Faces will be detected every `stride` frames\n",
    "                and remembered for `stride-1` frames.\n",
    "        \n",
    "        Keyword arguments:\n",
    "            resize (float): Fractional frame scaling. [default: {1}]\n",
    "            *args: Arguments to pass to the MTCNN constructor. See help(MTCNN).\n",
    "            **kwargs: Keyword arguments to pass to the MTCNN constructor. See help(MTCNN).\n",
    "        \"\"\"\n",
    "        self.stride = stride\n",
    "        self.resize = resize\n",
    "        self.mtcnn = MTCNN(*args, **kwargs)\n",
    "        \n",
    "    def __call__(self, frames):\n",
    "        \"\"\"Detect faces in frames using strided MTCNN.\"\"\"\n",
    "        if self.resize != 1:\n",
    "            frames = [\n",
    "                cv2.resize(f, (int(f.shape[1] * self.resize), int(f.shape[0] * self.resize)))\n",
    "                    for f in frames\n",
    "            ]\n",
    "                      \n",
    "        boxes, probs = self.mtcnn.detect(frames[::self.stride])\n",
    "\n",
    "        faces = []\n",
    "        for i, frame in enumerate(frames):\n",
    "            box_ind = int(i / self.stride)\n",
    "            if boxes[box_ind] is None:\n",
    "                continue\n",
    "            for box in boxes[box_ind]:\n",
    "                box = [int(b) for b in box]\n",
    "                faces.append(frame[box[1]:box[3], box[0]:box[2]])\n",
    "        \n",
    "        return faces"
   ]
  },
  {
   "cell_type": "code",
   "execution_count": 3,
   "id": "dense-huntington",
   "metadata": {},
   "outputs": [],
   "source": [
    "fast_mtcnn = FastMTCNN(\n",
    "    stride=4,\n",
    "    resize=1,\n",
    "    margin=14,\n",
    "    factor=0.6,\n",
    "    keep_all=True,\n",
    "    device=device\n",
    ")"
   ]
  },
  {
   "cell_type": "code",
   "execution_count": null,
   "id": "continuous-martin",
   "metadata": {},
   "outputs": [
    {
     "name": "stdout",
     "output_type": "stream",
     "text": [
      "Frames per second: 3.005, faces detected: 60\r"
     ]
    },
    {
     "name": "stderr",
     "output_type": "stream",
     "text": [
      "c:\\python38\\lib\\site-packages\\facenet_pytorch\\models\\utils\\detect_face.py:183: VisibleDeprecationWarning: Creating an ndarray from ragged nested sequences (which is a list-or-tuple of lists-or-tuples-or ndarrays with different lengths or shapes) is deprecated. If you meant to do this, you must specify 'dtype=object' when creating the ndarray.\n",
      "  batch_boxes, batch_points = np.array(batch_boxes), np.array(batch_points)\n",
      "c:\\python38\\lib\\site-packages\\facenet_pytorch\\models\\mtcnn.py:339: VisibleDeprecationWarning: Creating an ndarray from ragged nested sequences (which is a list-or-tuple of lists-or-tuples-or ndarrays with different lengths or shapes) is deprecated. If you meant to do this, you must specify 'dtype=object' when creating the ndarray.\n",
      "  boxes = np.array(boxes)\n",
      "c:\\python38\\lib\\site-packages\\facenet_pytorch\\models\\mtcnn.py:341: VisibleDeprecationWarning: Creating an ndarray from ragged nested sequences (which is a list-or-tuple of lists-or-tuples-or ndarrays with different lengths or shapes) is deprecated. If you meant to do this, you must specify 'dtype=object' when creating the ndarray.\n",
      "  points = np.array(points)\n"
     ]
    },
    {
     "name": "stdout",
     "output_type": "stream",
     "text": [
      "Frames per second: 7.616, faces detected: 108\r"
     ]
    }
   ],
   "source": [
    "def run_detection(fast_mtcnn, filename):\n",
    "    frames = []\n",
    "    frames_processed = 0\n",
    "    faces_detected = 0\n",
    "    batch_size = 60\n",
    "    start = time.time()\n",
    "    v_cap = FileVideoStream(filename).start()\n",
    "    v_len = int(v_cap.stream.get(cv2.CAP_PROP_FRAME_COUNT))\n",
    "    for j in range(v_len):\n",
    "        frame = v_cap.read()\n",
    "        frame = cv2.cvtColor(frame, cv2.COLOR_BGR2RGB)\n",
    "        frames.append(frame)\n",
    "        if len(frames) >= batch_size or j == v_len - 1:\n",
    "            faces = fast_mtcnn(frames)\n",
    "            frames_processed += len(frames)\n",
    "            faces_detected += len(faces)\n",
    "            frames = []\n",
    "            print( f'Frames per second: {frames_processed / (time.time() - start):.3f},',f'faces detected: {faces_detected}\\r',end='')\n",
    "            v_cap.stop()\n",
    "\n",
    "run_detection(fast_mtcnn, filename)"
   ]
  },
  {
   "cell_type": "code",
   "execution_count": null,
   "id": "elegant-destination",
   "metadata": {},
   "outputs": [],
   "source": []
  }
 ],
 "metadata": {
  "kernelspec": {
   "display_name": "Python 3",
   "language": "python",
   "name": "python3"
  },
  "language_info": {
   "codemirror_mode": {
    "name": "ipython",
    "version": 3
   },
   "file_extension": ".py",
   "mimetype": "text/x-python",
   "name": "python",
   "nbconvert_exporter": "python",
   "pygments_lexer": "ipython3",
   "version": "3.8.0"
  }
 },
 "nbformat": 4,
 "nbformat_minor": 5
}
